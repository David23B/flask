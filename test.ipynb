{
 "cells": [
  {
   "cell_type": "code",
   "execution_count": 9,
   "metadata": {},
   "outputs": [],
   "source": [
    "import requests\n",
    "from bs4 import BeautifulSoup\n",
    "\n",
    "def fetch_and_modify_html(url, output_file):\n",
    "    # 读取网页内容\n",
    "    response = requests.get(url)\n",
    "    \n",
    "    if response.status_code == 200:\n",
    "        html_content = response.text\n",
    "        \n",
    "        # 解析 HTML 内容\n",
    "        soup = BeautifulSoup(html_content, 'html.parser')\n",
    "\n",
    "        # 查找所有包含 `time-slot fulled`、`time-slot booked` 或 `time-slot closed` 类的 `span` 标签\n",
    "        for span in soup.find_all('span', class_=['time-slot fulled', 'time-slot booked']):\n",
    "            span['onclick'] = \"toggleSlot(this)\"\n",
    "        \n",
    "        # 添加 JavaScript 代码\n",
    "        script = soup.new_tag('script')\n",
    "        script.string = '''\n",
    "        function toggleSlot(span) {\n",
    "            // 获取日期和时间段文本，作为唯一标识符\n",
    "            const dateInfo = span.closest('.slot').querySelector('.date-info').textContent.trim();\n",
    "            const slotTime = span.textContent.trim();\n",
    "            const slotId = `${dateInfo}_${slotTime}`; // 生成唯一标识符\n",
    "\n",
    "            // 切换状态并存储\n",
    "            if (span.classList.contains('fulled')) {\n",
    "                span.classList.remove('fulled');\n",
    "                span.classList.add('booked');\n",
    "                localStorage.setItem(slotId, 'booked');\n",
    "            } else if (span.classList.contains('booked')) {\n",
    "                span.classList.remove('booked');\n",
    "                span.classList.add('fulled');\n",
    "                localStorage.setItem(slotId, 'fulled');\n",
    "            }\n",
    "        }\n",
    "\n",
    "        document.addEventListener('DOMContentLoaded', () => {\n",
    "            const slots = document.querySelectorAll('.time-slot');\n",
    "            slots.forEach(slot => {\n",
    "                const dateInfo = slot.closest('.slot').querySelector('.date-info').textContent.trim();\n",
    "                const slotTime = slot.textContent.trim();\n",
    "                const slotId = `${dateInfo}_${slotTime}`; // 生成唯一标识符\n",
    "\n",
    "                // 从 localStorage 中恢复状态\n",
    "                const savedStatus = localStorage.getItem(slotId);\n",
    "                if (savedStatus) {\n",
    "                    slot.classList.remove('fulled', 'booked', 'closed');\n",
    "                    slot.classList.add(savedStatus);\n",
    "                }\n",
    "\n",
    "                slot.addEventListener('click', () => {\n",
    "                    toggleSlot(slot);\n",
    "                });\n",
    "            });\n",
    "        });\n",
    "        '''\n",
    "        soup.body.append(script)  # 将脚本添加到 `body` 的末尾\n",
    "\n",
    "        # 手动替换 &nbsp; 只在指定元素中\n",
    "        for green_slot in soup.find_all('span', class_='green_slot'):\n",
    "            if green_slot.string:\n",
    "                green_slot.string.replace_with(green_slot.string.replace(\" \", \"\\xa0\"))\n",
    "\n",
    "        # 保存修改后的 HTML 文件\n",
    "        with open(f'templates/{output_file}', 'w', encoding='utf-8') as file:\n",
    "            file.write(str(soup))"
   ]
  },
  {
   "cell_type": "code",
   "execution_count": 10,
   "metadata": {},
   "outputs": [],
   "source": [
    "fetch_and_modify_html(\"https://cgyy.xmu.edu.cn/room/2\", \"room/2.html\")"
   ]
  },
  {
   "cell_type": "code",
   "execution_count": 9,
   "metadata": {},
   "outputs": [
    {
     "name": "stdout",
     "output_type": "stream",
     "text": [
      "替换完成并保存到本地文件\n"
     ]
    }
   ],
   "source": [
    "import requests\n",
    "from bs4 import BeautifulSoup\n",
    "\n",
    "# 2. 从网页端获取 <ul class=\"slot-list slot-list-2\"> 的内容\n",
    "url = \"https://cgyy.xmu.edu.cn/room/2\"  # 替换为实际网址\n",
    "response = requests.get(url)\n",
    "web_soup = BeautifulSoup(response.text, 'html.parser')\n",
    "web_ul_element = web_soup.find('ul', class_='slot-list slot-list-2')\n",
    "\n",
    "# 检查是否成功找到元素\n",
    "if not web_ul_element:\n",
    "    print(\"未找到网页中的 <ul class='slot-list slot-list-2'> 元素\")\n",
    "else:\n",
    "    # print(web_ul_element.prettify())\n",
    "    # 2. 读取本地 HTML 文件\n",
    "    with open(\"templates/room/2.html\", \"r\", encoding=\"utf-8\") as file:  # 替换为你的本地文件名\n",
    "        local_soup = BeautifulSoup(file, 'html.parser')\n",
    "    \n",
    "    # 3. 替换本地文件中的 <ul class=\"slot-list slot-list-2\"> 的内容\n",
    "    local_ul_element = local_soup.find('ul', class_='slot-list slot-list-2')\n",
    "    \n",
    "    if local_ul_element:\n",
    "        # print(local_ul_element.prettify())\n",
    "        # 用网页端的内容替换本地的 <ul> 元素内容\n",
    "        local_ul_element.replace_with(web_ul_element)\n",
    "        \n",
    "        # 4. 将修改后的 HTML 保存回本地文件\n",
    "        with open(\"templates/room/2.html\", \"w\", encoding=\"utf-8\") as file:\n",
    "            file.write(str(local_soup))\n",
    "        \n",
    "        print(\"替换完成并保存到本地文件\")\n",
    "    else:\n",
    "        print(\"未找到本地文件中的 <ul class='slot-list slot-list-2'> 元素\")"
   ]
  }
 ],
 "metadata": {
  "kernelspec": {
   "display_name": "base",
   "language": "python",
   "name": "python3"
  },
  "language_info": {
   "codemirror_mode": {
    "name": "ipython",
    "version": 3
   },
   "file_extension": ".py",
   "mimetype": "text/x-python",
   "name": "python",
   "nbconvert_exporter": "python",
   "pygments_lexer": "ipython3",
   "version": "3.12.3"
  }
 },
 "nbformat": 4,
 "nbformat_minor": 2
}
